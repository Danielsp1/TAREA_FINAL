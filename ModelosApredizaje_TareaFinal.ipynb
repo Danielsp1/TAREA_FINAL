{
 "cells": [
  {
   "cell_type": "code",
   "execution_count": 1,
   "id": "53f7316e",
   "metadata": {},
   "outputs": [
    {
     "name": "stdout",
     "output_type": "stream",
     "text": [
      "Defaulting to user installation because normal site-packages is not writeable\n",
      "Requirement already satisfied: ucimlrepo in c:\\users\\diego\\appdata\\roaming\\python\\python311\\site-packages (0.0.3)\n",
      "Note: you may need to restart the kernel to use updated packages.\n"
     ]
    }
   ],
   "source": [
    "pip install ucimlrepo"
   ]
  },
  {
   "cell_type": "code",
   "execution_count": 2,
   "id": "dfda590e",
   "metadata": {},
   "outputs": [
    {
     "name": "stdout",
     "output_type": "stream",
     "text": [
      "{'uci_id': 17, 'name': 'Breast Cancer Wisconsin (Diagnostic)', 'repository_url': 'https://archive.ics.uci.edu/dataset/17/breast+cancer+wisconsin+diagnostic', 'data_url': 'https://archive.ics.uci.edu/static/public/17/data.csv', 'abstract': 'Diagnostic Wisconsin Breast Cancer Database.', 'area': 'Health and Medicine', 'tasks': ['Classification'], 'characteristics': ['Multivariate'], 'num_instances': 569, 'num_features': 30, 'feature_types': ['Real'], 'demographics': [], 'target_col': ['Diagnosis'], 'index_col': ['ID'], 'has_missing_values': 'no', 'missing_values_symbol': None, 'year_of_dataset_creation': 1993, 'last_updated': 'Fri Nov 03 2023', 'dataset_doi': '10.24432/C5DW2B', 'creators': ['William Wolberg', 'Olvi Mangasarian', 'Nick Street', 'W. Street'], 'intro_paper': {'title': 'Nuclear feature extraction for breast tumor diagnosis', 'authors': 'W. Street, W. Wolberg, O. Mangasarian', 'published_in': 'Electronic imaging', 'year': 1993, 'url': 'https://www.semanticscholar.org/paper/53f0fbb425bc14468eb3bf96b2e1d41ba8087f36', 'doi': '10.1117/12.148698'}, 'additional_info': {'summary': 'Features are computed from a digitized image of a fine needle aspirate (FNA) of a breast mass.  They describe characteristics of the cell nuclei present in the image. A few of the images can be found at http://www.cs.wisc.edu/~street/images/\\r\\n\\r\\nSeparating plane described above was obtained using Multisurface Method-Tree (MSM-T) [K. P. Bennett, \"Decision Tree Construction Via Linear Programming.\" Proceedings of the 4th Midwest Artificial Intelligence and Cognitive Science Society, pp. 97-101, 1992], a classification method which uses linear programming to construct a decision tree.  Relevant features were selected using an exhaustive search in the space of 1-4 features and 1-3 separating planes.\\r\\n\\r\\nThe actual linear program used to obtain the separating plane in the 3-dimensional space is that described in: [K. P. Bennett and O. L. Mangasarian: \"Robust Linear Programming Discrimination of Two Linearly Inseparable Sets\", Optimization Methods and Software 1, 1992, 23-34].\\r\\n\\r\\nThis database is also available through the UW CS ftp server:\\r\\nftp ftp.cs.wisc.edu\\r\\ncd math-prog/cpo-dataset/machine-learn/WDBC/', 'purpose': None, 'funded_by': None, 'instances_represent': None, 'recommended_data_splits': None, 'sensitive_data': None, 'preprocessing_description': None, 'variable_info': '1) ID number\\r\\n2) Diagnosis (M = malignant, B = benign)\\r\\n3-32)\\r\\n\\r\\nTen real-valued features are computed for each cell nucleus:\\r\\n\\r\\n\\ta) radius (mean of distances from center to points on the perimeter)\\r\\n\\tb) texture (standard deviation of gray-scale values)\\r\\n\\tc) perimeter\\r\\n\\td) area\\r\\n\\te) smoothness (local variation in radius lengths)\\r\\n\\tf) compactness (perimeter^2 / area - 1.0)\\r\\n\\tg) concavity (severity of concave portions of the contour)\\r\\n\\th) concave points (number of concave portions of the contour)\\r\\n\\ti) symmetry \\r\\n\\tj) fractal dimension (\"coastline approximation\" - 1)', 'citation': None}}\n",
      "                  name     role         type demographic description units  \\\n",
      "0                   ID       ID  Categorical        None        None  None   \n",
      "1            Diagnosis   Target  Categorical        None        None  None   \n",
      "2              radius1  Feature   Continuous        None        None  None   \n",
      "3             texture1  Feature   Continuous        None        None  None   \n",
      "4           perimeter1  Feature   Continuous        None        None  None   \n",
      "5                area1  Feature   Continuous        None        None  None   \n",
      "6          smoothness1  Feature   Continuous        None        None  None   \n",
      "7         compactness1  Feature   Continuous        None        None  None   \n",
      "8           concavity1  Feature   Continuous        None        None  None   \n",
      "9      concave_points1  Feature   Continuous        None        None  None   \n",
      "10           symmetry1  Feature   Continuous        None        None  None   \n",
      "11  fractal_dimension1  Feature   Continuous        None        None  None   \n",
      "12             radius2  Feature   Continuous        None        None  None   \n",
      "13            texture2  Feature   Continuous        None        None  None   \n",
      "14          perimeter2  Feature   Continuous        None        None  None   \n",
      "15               area2  Feature   Continuous        None        None  None   \n",
      "16         smoothness2  Feature   Continuous        None        None  None   \n",
      "17        compactness2  Feature   Continuous        None        None  None   \n",
      "18          concavity2  Feature   Continuous        None        None  None   \n",
      "19     concave_points2  Feature   Continuous        None        None  None   \n",
      "20           symmetry2  Feature   Continuous        None        None  None   \n",
      "21  fractal_dimension2  Feature   Continuous        None        None  None   \n",
      "22             radius3  Feature   Continuous        None        None  None   \n",
      "23            texture3  Feature   Continuous        None        None  None   \n",
      "24          perimeter3  Feature   Continuous        None        None  None   \n",
      "25               area3  Feature   Continuous        None        None  None   \n",
      "26         smoothness3  Feature   Continuous        None        None  None   \n",
      "27        compactness3  Feature   Continuous        None        None  None   \n",
      "28          concavity3  Feature   Continuous        None        None  None   \n",
      "29     concave_points3  Feature   Continuous        None        None  None   \n",
      "30           symmetry3  Feature   Continuous        None        None  None   \n",
      "31  fractal_dimension3  Feature   Continuous        None        None  None   \n",
      "\n",
      "   missing_values  \n",
      "0              no  \n",
      "1              no  \n",
      "2              no  \n",
      "3              no  \n",
      "4              no  \n",
      "5              no  \n",
      "6              no  \n",
      "7              no  \n",
      "8              no  \n",
      "9              no  \n",
      "10             no  \n",
      "11             no  \n",
      "12             no  \n",
      "13             no  \n",
      "14             no  \n",
      "15             no  \n",
      "16             no  \n",
      "17             no  \n",
      "18             no  \n",
      "19             no  \n",
      "20             no  \n",
      "21             no  \n",
      "22             no  \n",
      "23             no  \n",
      "24             no  \n",
      "25             no  \n",
      "26             no  \n",
      "27             no  \n",
      "28             no  \n",
      "29             no  \n",
      "30             no  \n",
      "31             no  \n"
     ]
    }
   ],
   "source": [
    "from ucimlrepo import fetch_ucirepo \n",
    "  \n",
    "# fetch dataset \n",
    "breast_cancer_wisconsin_diagnostic = fetch_ucirepo(id=17) \n",
    "  \n",
    "# data (as pandas dataframes) \n",
    "X = breast_cancer_wisconsin_diagnostic.data.features \n",
    "y = breast_cancer_wisconsin_diagnostic.data.targets \n",
    "  \n",
    "# metadata \n",
    "print(breast_cancer_wisconsin_diagnostic.metadata) \n",
    "  \n",
    "# variable information \n",
    "print(breast_cancer_wisconsin_diagnostic.variables) "
   ]
  },
  {
   "cell_type": "code",
   "execution_count": 3,
   "id": "cc673da4",
   "metadata": {},
   "outputs": [
    {
     "name": "stdout",
     "output_type": "stream",
     "text": [
      "Valores faltantes en las características (X):\n",
      "radius1               0\n",
      "texture1              0\n",
      "perimeter1            0\n",
      "area1                 0\n",
      "smoothness1           0\n",
      "compactness1          0\n",
      "concavity1            0\n",
      "concave_points1       0\n",
      "symmetry1             0\n",
      "fractal_dimension1    0\n",
      "radius2               0\n",
      "texture2              0\n",
      "perimeter2            0\n",
      "area2                 0\n",
      "smoothness2           0\n",
      "compactness2          0\n",
      "concavity2            0\n",
      "concave_points2       0\n",
      "symmetry2             0\n",
      "fractal_dimension2    0\n",
      "radius3               0\n",
      "texture3              0\n",
      "perimeter3            0\n",
      "area3                 0\n",
      "smoothness3           0\n",
      "compactness3          0\n",
      "concavity3            0\n",
      "concave_points3       0\n",
      "symmetry3             0\n",
      "fractal_dimension3    0\n",
      "dtype: int64\n"
     ]
    }
   ],
   "source": [
    "# Contar el número de valores faltantes en cada columna de las características\n",
    "missing_values_features = X.isnull().sum()\n",
    "\n",
    "# Mostrar el conteo de valores faltantes por columna\n",
    "print(\"Valores faltantes en las características (X):\")\n",
    "print(missing_values_features)"
   ]
  },
  {
   "cell_type": "code",
   "execution_count": 4,
   "id": "8c868093",
   "metadata": {},
   "outputs": [
    {
     "name": "stdout",
     "output_type": "stream",
     "text": [
      "Valores faltantes en los objetivos (y):\n",
      "Diagnosis    0\n",
      "dtype: int64\n"
     ]
    }
   ],
   "source": [
    "# Contar valores \n",
    "missing_values_targets = y.isnull().sum()\n",
    "\n",
    "# Mostrar el conteo de valores faltantes\n",
    "print(\"Valores faltantes en los objetivos (y):\")\n",
    "print(missing_values_targets)\n"
   ]
  },
  {
   "cell_type": "code",
   "execution_count": 5,
   "id": "9f78bf5a",
   "metadata": {},
   "outputs": [
    {
     "name": "stdout",
     "output_type": "stream",
     "text": [
      "Defaulting to user installation because normal site-packages is not writeable\n",
      "Requirement already satisfied: scikit-learn in c:\\programdata\\anaconda3\\lib\\site-packages (1.3.0)\n",
      "Requirement already satisfied: pandas in c:\\programdata\\anaconda3\\lib\\site-packages (2.0.3)\n",
      "Requirement already satisfied: numpy>=1.17.3 in c:\\programdata\\anaconda3\\lib\\site-packages (from scikit-learn) (1.24.3)\n",
      "Requirement already satisfied: scipy>=1.5.0 in c:\\programdata\\anaconda3\\lib\\site-packages (from scikit-learn) (1.11.1)\n",
      "Requirement already satisfied: joblib>=1.1.1 in c:\\programdata\\anaconda3\\lib\\site-packages (from scikit-learn) (1.2.0)\n",
      "Requirement already satisfied: threadpoolctl>=2.0.0 in c:\\programdata\\anaconda3\\lib\\site-packages (from scikit-learn) (2.2.0)\n",
      "Requirement already satisfied: python-dateutil>=2.8.2 in c:\\programdata\\anaconda3\\lib\\site-packages (from pandas) (2.8.2)\n",
      "Requirement already satisfied: pytz>=2020.1 in c:\\programdata\\anaconda3\\lib\\site-packages (from pandas) (2023.3.post1)\n",
      "Requirement already satisfied: tzdata>=2022.1 in c:\\programdata\\anaconda3\\lib\\site-packages (from pandas) (2023.3)\n",
      "Requirement already satisfied: six>=1.5 in c:\\programdata\\anaconda3\\lib\\site-packages (from python-dateutil>=2.8.2->pandas) (1.16.0)\n",
      "Note: you may need to restart the kernel to use updated packages.\n"
     ]
    }
   ],
   "source": [
    "pip install scikit-learn pandas\n"
   ]
  },
  {
   "cell_type": "code",
   "execution_count": 6,
   "id": "5b7b6d8f",
   "metadata": {},
   "outputs": [],
   "source": [
    "#Paso 1: Preparación del Entorno"
   ]
  },
  {
   "cell_type": "code",
   "execution_count": 7,
   "id": "427b73bc",
   "metadata": {},
   "outputs": [],
   "source": [
    "from sklearn.datasets import load_breast_cancer\n",
    "from sklearn.model_selection import train_test_split\n",
    "from sklearn.linear_model import LogisticRegression\n",
    "from sklearn.ensemble import RandomForestClassifier\n",
    "from sklearn.svm import SVC\n",
    "from sklearn.metrics import confusion_matrix, classification_report\n",
    "import matplotlib.pyplot as plt\n",
    "import seaborn as sns\n",
    "\n"
   ]
  },
  {
   "cell_type": "code",
   "execution_count": 8,
   "id": "6e8cb987",
   "metadata": {},
   "outputs": [],
   "source": [
    "#Carga de datos y division de variables"
   ]
  },
  {
   "cell_type": "code",
   "execution_count": 9,
   "id": "f8ae0b87",
   "metadata": {},
   "outputs": [],
   "source": [
    "data = load_breast_cancer()\n",
    "X = data.data\n",
    "y = data.target\n",
    "\n",
    "# Dividir en entrenamiento y prueba\n",
    "X_train, X_test, y_train, y_test = train_test_split(X, y, test_size=0.2, random_state=42)"
   ]
  },
  {
   "cell_type": "code",
   "execution_count": 10,
   "id": "dd7753d7",
   "metadata": {},
   "outputs": [],
   "source": [
    "#Entrenamiento de los Modelos"
   ]
  },
  {
   "cell_type": "code",
   "execution_count": 11,
   "id": "0ba2af29",
   "metadata": {},
   "outputs": [
    {
     "data": {
      "text/html": [
       "<style>#sk-container-id-1 {color: black;}#sk-container-id-1 pre{padding: 0;}#sk-container-id-1 div.sk-toggleable {background-color: white;}#sk-container-id-1 label.sk-toggleable__label {cursor: pointer;display: block;width: 100%;margin-bottom: 0;padding: 0.3em;box-sizing: border-box;text-align: center;}#sk-container-id-1 label.sk-toggleable__label-arrow:before {content: \"▸\";float: left;margin-right: 0.25em;color: #696969;}#sk-container-id-1 label.sk-toggleable__label-arrow:hover:before {color: black;}#sk-container-id-1 div.sk-estimator:hover label.sk-toggleable__label-arrow:before {color: black;}#sk-container-id-1 div.sk-toggleable__content {max-height: 0;max-width: 0;overflow: hidden;text-align: left;background-color: #f0f8ff;}#sk-container-id-1 div.sk-toggleable__content pre {margin: 0.2em;color: black;border-radius: 0.25em;background-color: #f0f8ff;}#sk-container-id-1 input.sk-toggleable__control:checked~div.sk-toggleable__content {max-height: 200px;max-width: 100%;overflow: auto;}#sk-container-id-1 input.sk-toggleable__control:checked~label.sk-toggleable__label-arrow:before {content: \"▾\";}#sk-container-id-1 div.sk-estimator input.sk-toggleable__control:checked~label.sk-toggleable__label {background-color: #d4ebff;}#sk-container-id-1 div.sk-label input.sk-toggleable__control:checked~label.sk-toggleable__label {background-color: #d4ebff;}#sk-container-id-1 input.sk-hidden--visually {border: 0;clip: rect(1px 1px 1px 1px);clip: rect(1px, 1px, 1px, 1px);height: 1px;margin: -1px;overflow: hidden;padding: 0;position: absolute;width: 1px;}#sk-container-id-1 div.sk-estimator {font-family: monospace;background-color: #f0f8ff;border: 1px dotted black;border-radius: 0.25em;box-sizing: border-box;margin-bottom: 0.5em;}#sk-container-id-1 div.sk-estimator:hover {background-color: #d4ebff;}#sk-container-id-1 div.sk-parallel-item::after {content: \"\";width: 100%;border-bottom: 1px solid gray;flex-grow: 1;}#sk-container-id-1 div.sk-label:hover label.sk-toggleable__label {background-color: #d4ebff;}#sk-container-id-1 div.sk-serial::before {content: \"\";position: absolute;border-left: 1px solid gray;box-sizing: border-box;top: 0;bottom: 0;left: 50%;z-index: 0;}#sk-container-id-1 div.sk-serial {display: flex;flex-direction: column;align-items: center;background-color: white;padding-right: 0.2em;padding-left: 0.2em;position: relative;}#sk-container-id-1 div.sk-item {position: relative;z-index: 1;}#sk-container-id-1 div.sk-parallel {display: flex;align-items: stretch;justify-content: center;background-color: white;position: relative;}#sk-container-id-1 div.sk-item::before, #sk-container-id-1 div.sk-parallel-item::before {content: \"\";position: absolute;border-left: 1px solid gray;box-sizing: border-box;top: 0;bottom: 0;left: 50%;z-index: -1;}#sk-container-id-1 div.sk-parallel-item {display: flex;flex-direction: column;z-index: 1;position: relative;background-color: white;}#sk-container-id-1 div.sk-parallel-item:first-child::after {align-self: flex-end;width: 50%;}#sk-container-id-1 div.sk-parallel-item:last-child::after {align-self: flex-start;width: 50%;}#sk-container-id-1 div.sk-parallel-item:only-child::after {width: 0;}#sk-container-id-1 div.sk-dashed-wrapped {border: 1px dashed gray;margin: 0 0.4em 0.5em 0.4em;box-sizing: border-box;padding-bottom: 0.4em;background-color: white;}#sk-container-id-1 div.sk-label label {font-family: monospace;font-weight: bold;display: inline-block;line-height: 1.2em;}#sk-container-id-1 div.sk-label-container {text-align: center;}#sk-container-id-1 div.sk-container {/* jupyter's `normalize.less` sets `[hidden] { display: none; }` but bootstrap.min.css set `[hidden] { display: none !important; }` so we also need the `!important` here to be able to override the default hidden behavior on the sphinx rendered scikit-learn.org. See: https://github.com/scikit-learn/scikit-learn/issues/21755 */display: inline-block !important;position: relative;}#sk-container-id-1 div.sk-text-repr-fallback {display: none;}</style><div id=\"sk-container-id-1\" class=\"sk-top-container\"><div class=\"sk-text-repr-fallback\"><pre>SVC(probability=True, random_state=42)</pre><b>In a Jupyter environment, please rerun this cell to show the HTML representation or trust the notebook. <br />On GitHub, the HTML representation is unable to render, please try loading this page with nbviewer.org.</b></div><div class=\"sk-container\" hidden><div class=\"sk-item\"><div class=\"sk-estimator sk-toggleable\"><input class=\"sk-toggleable__control sk-hidden--visually\" id=\"sk-estimator-id-1\" type=\"checkbox\" checked><label for=\"sk-estimator-id-1\" class=\"sk-toggleable__label sk-toggleable__label-arrow\">SVC</label><div class=\"sk-toggleable__content\"><pre>SVC(probability=True, random_state=42)</pre></div></div></div></div></div>"
      ],
      "text/plain": [
       "SVC(probability=True, random_state=42)"
      ]
     },
     "execution_count": 11,
     "metadata": {},
     "output_type": "execute_result"
    }
   ],
   "source": [
    "# Inicializar los modelos\n",
    "log_reg = LogisticRegression(max_iter=10000, random_state=42)\n",
    "rand_forest = RandomForestClassifier(n_estimators=100, random_state=42)\n",
    "svm_model = SVC(probability=True, random_state=42)\n",
    "\n",
    "# Entrenar los modelos\n",
    "log_reg.fit(X_train, y_train)\n",
    "rand_forest.fit(X_train, y_train)\n",
    "svm_model.fit(X_train, y_train)\n"
   ]
  },
  {
   "cell_type": "code",
   "execution_count": 12,
   "id": "00ce41bf",
   "metadata": {},
   "outputs": [],
   "source": [
    "#Evaluación de los Modelos"
   ]
  },
  {
   "cell_type": "code",
   "execution_count": 13,
   "id": "ad08b197",
   "metadata": {},
   "outputs": [
    {
     "data": {
      "image/png": "[encoded data removed]",
      "text/plain": [
       "<Figure size 600x500 with 2 Axes>"
      ]
     },
     "metadata": {},
     "output_type": "display_data"
    },
    {
     "name": "stdout",
     "output_type": "stream",
     "text": [
      "Informe de Clasificación: Logistic Regression\n",
      "\n",
      "              precision    recall  f1-score   support\n",
      "\n",
      "           0       0.97      0.91      0.94        43\n",
      "           1       0.95      0.99      0.97        71\n",
      "\n",
      "    accuracy                           0.96       114\n",
      "   macro avg       0.96      0.95      0.95       114\n",
      "weighted avg       0.96      0.96      0.96       114\n",
      "\n"
     ]
    },
    {
     "data": {
      "image/png": "[encoded data removed]",
      "text/plain": [
       "<Figure size 600x500 with 2 Axes>"
      ]
     },
     "metadata": {},
     "output_type": "display_data"
    },
    {
     "name": "stdout",
     "output_type": "stream",
     "text": [
      "Informe de Clasificación: Random Forest\n",
      "\n",
      "              precision    recall  f1-score   support\n",
      "\n",
      "           0       0.98      0.93      0.95        43\n",
      "           1       0.96      0.99      0.97        71\n",
      "\n",
      "    accuracy                           0.96       114\n",
      "   macro avg       0.97      0.96      0.96       114\n",
      "weighted avg       0.97      0.96      0.96       114\n",
      "\n"
     ]
    },
    {
     "data": {
      "image/png": "[encoded data removed]",
      "text/plain": [
       "<Figure size 600x500 with 2 Axes>"
      ]
     },
     "metadata": {},
     "output_type": "display_data"
    },
    {
     "name": "stdout",
     "output_type": "stream",
     "text": [
      "Informe de Clasificación: SVM\n",
      "\n",
      "              precision    recall  f1-score   support\n",
      "\n",
      "           0       1.00      0.86      0.92        43\n",
      "           1       0.92      1.00      0.96        71\n",
      "\n",
      "    accuracy                           0.95       114\n",
      "   macro avg       0.96      0.93      0.94       114\n",
      "weighted avg       0.95      0.95      0.95       114\n",
      "\n"
     ]
    }
   ],
   "source": [
    "models = {'Logistic Regression': log_reg, 'Random Forest': rand_forest, 'SVM': svm_model}\n",
    "for name, model in models.items():\n",
    "    # Predicciones\n",
    "    y_pred = model.predict(X_test)\n",
    "    \n",
    "    # Matriz de confusión\n",
    "    conf_matrix = confusion_matrix(y_test, y_pred)\n",
    "    plt.figure(figsize=(6, 5))\n",
    "    sns.heatmap(conf_matrix, annot=True, fmt=\"d\", cmap=\"Blues\")\n",
    "    plt.title(f'Matriz de Confusión: {name}')\n",
    "    plt.ylabel('Verdadero')\n",
    "    plt.xlabel('Predicción')\n",
    "    plt.show()\n",
    "    \n",
    "    # Informe de clasificación\n",
    "    print(f'Informe de Clasificación: {name}\\n')\n",
    "    print(classification_report(y_test, y_pred))"
   ]
  },
  {
   "cell_type": "code",
   "execution_count": 14,
   "id": "fc2061dd",
   "metadata": {},
   "outputs": [],
   "source": [
    "#Ahora probaremos cada modelo"
   ]
  },
  {
   "cell_type": "code",
   "execution_count": null,
   "id": "abba6e8c",
   "metadata": {},
   "outputs": [],
   "source": [
    "#Prueba 1: elegimos 5 opciones aleatorias y comparamos la probabilidad con el resultado real."
   ]
  },
  {
   "cell_type": "code",
   "execution_count": 16,
   "id": "1de279ce",
   "metadata": {},
   "outputs": [
    {
     "name": "stdout",
     "output_type": "stream",
     "text": [
      "Paciente 90:\n",
      "Probabilidad de cáncer según la Regresión Logística: 0.99\n",
      "Probabilidad de cáncer según el Random Forest: 0.99\n",
      "Probabilidad de cáncer según el SVM: 0.94\n",
      "Etiqueta real: Cáncer\n",
      "\n",
      "Paciente 33:\n",
      "Probabilidad de cáncer según la Regresión Logística: 0.99\n",
      "Probabilidad de cáncer según el Random Forest: 0.98\n",
      "Probabilidad de cáncer según el SVM: 0.71\n",
      "Etiqueta real: Cáncer\n",
      "\n",
      "Paciente 72:\n",
      "Probabilidad de cáncer según la Regresión Logística: 1.00\n",
      "Probabilidad de cáncer según el Random Forest: 0.99\n",
      "Probabilidad de cáncer según el SVM: 0.90\n",
      "Etiqueta real: Cáncer\n",
      "\n",
      "Paciente 93:\n",
      "Probabilidad de cáncer según la Regresión Logística: 1.00\n",
      "Probabilidad de cáncer según el Random Forest: 0.92\n",
      "Probabilidad de cáncer según el SVM: 0.97\n",
      "Etiqueta real: Cáncer\n",
      "\n",
      "Paciente 100:\n",
      "Probabilidad de cáncer según la Regresión Logística: 0.00\n",
      "Probabilidad de cáncer según el Random Forest: 0.09\n",
      "Probabilidad de cáncer según el SVM: 0.00\n",
      "Etiqueta real: No cáncer\n",
      "\n"
     ]
    }
   ],
   "source": [
    "import numpy as np\n",
    "\n",
    "# Seleccionar 5 índices aleatorios sin reemplazo del conjunto de prueba\n",
    "random_indices = np.random.choice(X_test.shape[0], 5, replace=False)\n",
    "\n",
    "# Usando los mismos índices aleatorios para verificar las etiquetas reales\n",
    "for index in random_indices:\n",
    "    example_patient = X_test[index].reshape(1, -1)\n",
    "    prob_log_reg = log_reg.predict_proba(example_patient)[0][1]\n",
    "    prob_rand_forest = rand_forest.predict_proba(example_patient)[0][1]\n",
    "    prob_svm = svm_model.predict_proba(example_patient)[0][1]\n",
    "    real_label = y_test[index]\n",
    "    \n",
    "    # Imprimir las probabilidades predichas y la etiqueta real\n",
    "    print(f\"Paciente {index}:\")\n",
    "    print(f\"Probabilidad de cáncer según la Regresión Logística: {prob_log_reg:.2f}\")\n",
    "    print(f\"Probabilidad de cáncer según el Random Forest: {prob_rand_forest:.2f}\")\n",
    "    print(f\"Probabilidad de cáncer según el SVM: {prob_svm:.2f}\")\n",
    "    print(f\"Etiqueta real: {'Cáncer' if real_label == 1 else 'No cáncer'}\\n\")\n"
   ]
  },
  {
   "cell_type": "code",
   "execution_count": null,
   "id": "3b3b0cbf",
   "metadata": {},
   "outputs": [],
   "source": [
    "# Prueba 2 elegimos 5 pacientes con cancer y 5 sin cancer y comapramos"
   ]
  },
  {
   "cell_type": "code",
   "execution_count": 22,
   "id": "cf92a82b",
   "metadata": {},
   "outputs": [
    {
     "name": "stdout",
     "output_type": "stream",
     "text": [
      "Paciente 34: Cáncer\n",
      "  Probabilidad de cáncer según la Regresión Logística: 1.00\n",
      "  Probabilidad de cáncer según el Random Forest: 1.00\n",
      "  Probabilidad de cáncer según el SVM: 0.98\n",
      "\n",
      "Paciente 0: Cáncer\n",
      "  Probabilidad de cáncer según la Regresión Logística: 0.88\n",
      "  Probabilidad de cáncer según el Random Forest: 0.97\n",
      "  Probabilidad de cáncer según el SVM: 0.85\n",
      "\n",
      "Paciente 75: Cáncer\n",
      "  Probabilidad de cáncer según la Regresión Logística: 1.00\n",
      "  Probabilidad de cáncer según el Random Forest: 0.96\n",
      "  Probabilidad de cáncer según el SVM: 0.91\n",
      "\n",
      "Paciente 9: Cáncer\n",
      "  Probabilidad de cáncer según la Regresión Logística: 0.99\n",
      "  Probabilidad de cáncer según el Random Forest: 0.94\n",
      "  Probabilidad de cáncer según el SVM: 0.85\n",
      "\n",
      "Paciente 89: Cáncer\n",
      "  Probabilidad de cáncer según la Regresión Logística: 1.00\n",
      "  Probabilidad de cáncer según el Random Forest: 0.99\n",
      "  Probabilidad de cáncer según el SVM: 0.94\n",
      "\n",
      "Paciente 11: No Cáncer\n",
      "  Probabilidad de cáncer según la Regresión Logística: 0.00\n",
      "  Probabilidad de cáncer según el Random Forest: 0.02\n",
      "  Probabilidad de cáncer según el SVM: 0.01\n",
      "\n",
      "Paciente 107: No Cáncer\n",
      "  Probabilidad de cáncer según la Regresión Logística: 0.00\n",
      "  Probabilidad de cáncer según el Random Forest: 0.00\n",
      "  Probabilidad de cáncer según el SVM: 0.01\n",
      "\n",
      "Paciente 61: No Cáncer\n",
      "  Probabilidad de cáncer según la Regresión Logística: 0.00\n",
      "  Probabilidad de cáncer según el Random Forest: 0.00\n",
      "  Probabilidad de cáncer según el SVM: 0.00\n",
      "\n",
      "Paciente 85: No Cáncer\n",
      "  Probabilidad de cáncer según la Regresión Logística: 0.01\n",
      "  Probabilidad de cáncer según el Random Forest: 0.00\n",
      "  Probabilidad de cáncer según el SVM: 0.28\n",
      "\n",
      "Paciente 102: No Cáncer\n",
      "  Probabilidad de cáncer según la Regresión Logística: 0.00\n",
      "  Probabilidad de cáncer según el Random Forest: 0.00\n",
      "  Probabilidad de cáncer según el SVM: 0.00\n",
      "\n"
     ]
    }
   ],
   "source": [
    "# Identificar índices de pacientes con cáncer (etiqueta 1) y sin cáncer (etiqueta 0)\n",
    "indices_con_cancer = np.where(y_test == 1)[0]\n",
    "indices_sin_cancer = np.where(y_test == 0)[0]\n",
    "\n",
    "# Seleccionar 5 pacientes aleatorios con cáncer y 5 sin cáncer\n",
    "np.random.seed(42)  # Para reproducibilidad\n",
    "seleccionados_con_cancer = np.random.choice(indices_con_cancer, 5, replace=False)\n",
    "seleccionados_sin_cancer = np.random.choice(indices_sin_cancer, 5, replace=False)\n",
    "\n",
    "# Combinar los índices seleccionados para la predicción\n",
    "indices_seleccionados = np.concatenate((seleccionados_con_cancer, seleccionados_sin_cancer))\n",
    "\n",
    "# Realizar predicciones para los pacientes seleccionados\n",
    "for index in indices_seleccionados:\n",
    "    example_patient = X_test[index].reshape(1, -1)\n",
    "    prob_log_reg = log_reg.predict_proba(example_patient)[0][1]\n",
    "    prob_rand_forest = rand_forest.predict_proba(example_patient)[0][1]\n",
    "    prob_svm = svm_model.predict_proba(example_patient)[0][1]\n",
    "    real_label = \"Cáncer\" if y_test[index] == 1 else \"No Cáncer\"\n",
    "    \n",
    "    # Imprimir las probabilidades predichas y la etiqueta real\n",
    "    print(f\"Paciente {index}: {real_label}\")\n",
    "    print(f\"  Probabilidad de cáncer según la Regresión Logística: {prob_log_reg:.2f}\")\n",
    "    print(f\"  Probabilidad de cáncer según el Random Forest: {prob_rand_forest:.2f}\")\n",
    "    print(f\"  Probabilidad de cáncer según el SVM: {prob_svm:.2f}\\n\")\n",
    "\n"
   ]
  }
 ],
 "metadata": {
  "kernelspec": {
   "display_name": "Python 3 (ipykernel)",
   "language": "python",
   "name": "python3"
  },
  "language_info": {
   "codemirror_mode": {
    "name": "ipython",
    "version": 3
   },
   "file_extension": ".py",
   "mimetype": "text/x-python",
   "name": "python",
   "nbconvert_exporter": "python",
   "pygments_lexer": "ipython3",
   "version": "3.11.5"
  }
 },
 "nbformat": 4,
 "nbformat_minor": 5
}
